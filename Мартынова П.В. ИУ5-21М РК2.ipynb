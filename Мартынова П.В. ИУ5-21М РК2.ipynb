{
  "nbformat": 4,
  "nbformat_minor": 0,
  "metadata": {
    "colab": {
      "provenance": []
    },
    "kernelspec": {
      "name": "python3",
      "display_name": "Python 3"
    },
    "language_info": {
      "name": "python"
    }
  },
  "cells": [
    {
      "cell_type": "markdown",
      "source": [
        "# РК2  \n",
        "## Мартынова П.В. ИУ5-21М  \n",
        "**Задание**  \n",
        "Необходимо решить задачу классификации текстов на основе любого выбранного Вами датасета (кроме примера, который рассматривался в лекции). Классификация может быть бинарной или многоклассовой. Целевой признак из выбранного Вами датасета может иметь любой физический смысл, примером является задача анализа тональности текста.  \n",
        "  \n",
        "Необходимо сформировать два варианта векторизации признаков - на основе CountVectorizer и на основе TfidfVectorizer.   \n",
        "\n",
        "|Классификатор №1      | Классификатор №2        |\n",
        "|----------------------|-------------------------|\n",
        "|KNeighborsClassifier  | LogisticRegression      |"
      ],
      "metadata": {
        "id": "KyW3bBTAdHq_"
      }
    },
    {
      "cell_type": "code",
      "execution_count": 2,
      "metadata": {
        "id": "kmeDYh_dc9Jn"
      },
      "outputs": [],
      "source": [
        "import pandas as pd\n",
        "import numpy as np\n",
        "from sklearn.feature_extraction.text import CountVectorizer, TfidfVectorizer\n",
        "from sklearn.model_selection import train_test_split\n",
        "from sklearn.neighbors import KNeighborsClassifier\n",
        "from sklearn.linear_model import LogisticRegression\n",
        "from sklearn.metrics import accuracy_score, classification_report\n",
        "\n",
        "data = pd.read_csv('spam.csv', encoding='latin-1')\n",
        "data = data[['v1', 'v2']]\n",
        "data = data.rename(columns={'v1': 'label', 'v2': 'text'})"
      ]
    },
    {
      "cell_type": "code",
      "source": [
        "X_train, X_test, y_train, y_test = train_test_split(data['text'], data['label'], test_size=0.2, random_state=42)"
      ],
      "metadata": {
        "id": "v7RxYcaKhh-3"
      },
      "execution_count": 3,
      "outputs": []
    },
    {
      "cell_type": "markdown",
      "source": [
        "### CountVectorizer"
      ],
      "metadata": {
        "id": "BtiOAem9ho5L"
      }
    },
    {
      "cell_type": "code",
      "source": [
        "vectorizer = CountVectorizer()\n",
        "X_train_count = vectorizer.fit_transform(X_train)\n",
        "X_test_count = vectorizer.transform(X_test)"
      ],
      "metadata": {
        "id": "Y-x9rjvlhiXR"
      },
      "execution_count": 4,
      "outputs": []
    },
    {
      "cell_type": "markdown",
      "source": [
        "KNeighborsClassifier"
      ],
      "metadata": {
        "id": "XSduU2Rzhk2m"
      }
    },
    {
      "cell_type": "code",
      "source": [
        "knn = KNeighborsClassifier()\n",
        "knn.fit(X_train_count, y_train)\n",
        "y_pred_knn_count = knn.predict(X_test_count)\n",
        "print('Accuracy KNN CountVectorizer:', accuracy_score(y_test, y_pred_knn_count))\n",
        "print(classification_report(y_test, y_pred_knn_count))"
      ],
      "metadata": {
        "colab": {
          "base_uri": "https://localhost:8080/"
        },
        "id": "RzdLdJIYhj9b",
        "outputId": "8fba9b24-664c-48d1-c438-984404297bd6"
      },
      "execution_count": 5,
      "outputs": [
        {
          "output_type": "stream",
          "name": "stdout",
          "text": [
            "Accuracy KNN CountVectorizer: 0.9192825112107623\n",
            "              precision    recall  f1-score   support\n",
            "\n",
            "         ham       0.91      1.00      0.96       965\n",
            "        spam       1.00      0.40      0.57       150\n",
            "\n",
            "    accuracy                           0.92      1115\n",
            "   macro avg       0.96      0.70      0.76      1115\n",
            "weighted avg       0.93      0.92      0.90      1115\n",
            "\n"
          ]
        }
      ]
    },
    {
      "cell_type": "markdown",
      "source": [
        "LogisticRegression"
      ],
      "metadata": {
        "id": "dytP7JwuhutH"
      }
    },
    {
      "cell_type": "code",
      "source": [
        "lr = LogisticRegression()\n",
        "lr.fit(X_train_count, y_train)\n",
        "y_pred_lr_count = lr.predict(X_test_count)\n",
        "print('Accuracy LR CountVectorizer:', accuracy_score(y_test, y_pred_lr_count))\n",
        "print(classification_report(y_test, y_pred_lr_count))"
      ],
      "metadata": {
        "colab": {
          "base_uri": "https://localhost:8080/"
        },
        "id": "Wm7cEXSOhwAl",
        "outputId": "dc6472f4-2eb2-4294-bfd7-26515de63498"
      },
      "execution_count": 6,
      "outputs": [
        {
          "output_type": "stream",
          "name": "stdout",
          "text": [
            "Accuracy LR CountVectorizer: 0.97847533632287\n",
            "              precision    recall  f1-score   support\n",
            "\n",
            "         ham       0.98      1.00      0.99       965\n",
            "        spam       1.00      0.84      0.91       150\n",
            "\n",
            "    accuracy                           0.98      1115\n",
            "   macro avg       0.99      0.92      0.95      1115\n",
            "weighted avg       0.98      0.98      0.98      1115\n",
            "\n"
          ]
        }
      ]
    },
    {
      "cell_type": "markdown",
      "source": [
        "### TfidfVectorizer"
      ],
      "metadata": {
        "id": "wykcXpUxh2YV"
      }
    },
    {
      "cell_type": "code",
      "source": [
        "vectorizer = TfidfVectorizer()\n",
        "X_train_tfidf = vectorizer.fit_transform(X_train)\n",
        "X_test_tfidf = vectorizer.transform(X_test)"
      ],
      "metadata": {
        "id": "5CIqom1Dhw3r"
      },
      "execution_count": 7,
      "outputs": []
    },
    {
      "cell_type": "markdown",
      "source": [
        "KNeighborsClassifier"
      ],
      "metadata": {
        "id": "EihLFho5h6x9"
      }
    },
    {
      "cell_type": "code",
      "source": [
        "knn = KNeighborsClassifier()\n",
        "knn.fit(X_train_tfidf, y_train)\n",
        "y_pred_knn_tfidf = knn.predict(X_test_tfidf)\n",
        "print('Accuracy KNN TfidfVectorizer:', accuracy_score(y_test, y_pred_knn_tfidf))\n",
        "print(classification_report(y_test, y_pred_knn_tfidf))"
      ],
      "metadata": {
        "colab": {
          "base_uri": "https://localhost:8080/"
        },
        "id": "Cd987r2Ih4sV",
        "outputId": "b05d1170-404b-4437-f5ee-37a0479b4d98"
      },
      "execution_count": 8,
      "outputs": [
        {
          "output_type": "stream",
          "name": "stdout",
          "text": [
            "Accuracy KNN TfidfVectorizer: 0.915695067264574\n",
            "              precision    recall  f1-score   support\n",
            "\n",
            "         ham       0.91      1.00      0.95       965\n",
            "        spam       1.00      0.37      0.54       150\n",
            "\n",
            "    accuracy                           0.92      1115\n",
            "   macro avg       0.96      0.69      0.75      1115\n",
            "weighted avg       0.92      0.92      0.90      1115\n",
            "\n"
          ]
        }
      ]
    },
    {
      "cell_type": "markdown",
      "source": [
        "LogisticRegression"
      ],
      "metadata": {
        "id": "Ht4gz0zPh8Xk"
      }
    },
    {
      "cell_type": "code",
      "source": [
        "lr = LogisticRegression()\n",
        "lr.fit(X_train_tfidf, y_train)\n",
        "y_pred_lr_tfidf = lr.predict(X_test_tfidf)\n",
        "print('Accuracy LR TfidfVectorizer:', accuracy_score(y_test, y_pred_lr_tfidf))\n",
        "print(classification_report(y_test, y_pred_lr_tfidf))"
      ],
      "metadata": {
        "colab": {
          "base_uri": "https://localhost:8080/"
        },
        "id": "jLH8l72hiBbM",
        "outputId": "c81886c8-7429-4168-dfc8-3ead2f44ca6c"
      },
      "execution_count": 9,
      "outputs": [
        {
          "output_type": "stream",
          "name": "stdout",
          "text": [
            "Accuracy LR TfidfVectorizer: 0.9659192825112107\n",
            "              precision    recall  f1-score   support\n",
            "\n",
            "         ham       0.96      1.00      0.98       965\n",
            "        spam       0.99      0.75      0.86       150\n",
            "\n",
            "    accuracy                           0.97      1115\n",
            "   macro avg       0.98      0.88      0.92      1115\n",
            "weighted avg       0.97      0.97      0.96      1115\n",
            "\n"
          ]
        }
      ]
    },
    {
      "cell_type": "code",
      "source": [],
      "metadata": {
        "id": "w9LykG27h-lY"
      },
      "execution_count": 9,
      "outputs": []
    }
  ]
}